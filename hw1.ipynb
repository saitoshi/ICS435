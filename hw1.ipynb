{
 "cells": [
  {
   "cell_type": "markdown",
   "metadata": {},
   "source": [
    "# HW 1\n",
    "Submission: Upload your .ipynb file to Laulima. Before submission, run all cells in your notebook to make sure there are no errors by doing `Kernel -> Restart Kernel and Clear All Outputs` and then `Run -> Run All Cells`.\n",
    "## Exercise 1: Basic Python\n",
    "\n",
    "Write a function that computes the first N elements of the Bibonacci Sequence. This sequence is defined as B[0]=1, B[1]=1, B[2]=1, and for k>2, B[k]=B[k-1]+B[k-2]+B[k-3]. The function should take N as an argument, and return a list of N ints. Print the first N=20 elements of the sequence."
   ]
  },
  {
   "cell_type": "code",
   "execution_count": null,
   "metadata": {},
   "outputs": [],
   "source": []
  },
  {
   "cell_type": "markdown",
   "metadata": {},
   "source": [
    "Use list comprehensions to create a one-line python command that prints the first 20 counting numbers that are not in the list of 20 Bibonacci numbers computed above."
   ]
  },
  {
   "cell_type": "code",
   "execution_count": null,
   "metadata": {},
   "outputs": [],
   "source": []
  },
  {
   "cell_type": "markdown",
   "metadata": {},
   "source": [
    "Write a Python program to create a dictionary grouping a sequence of key-value pairs into a dictionary of lists.\n",
    "\n",
    "Original list:\n",
    "[('yellow', 1), ('blue', 2), ('yellow', 3), ('blue', 4), ('red', 1)]\n",
    "\n",
    "Grouping a sequence of key-value pairs into a dictionary of lists:\n",
    "{'yellow': [1, 3], 'blue': [2, 4], 'red': [1]}"
   ]
  },
  {
   "cell_type": "code",
   "execution_count": null,
   "metadata": {},
   "outputs": [],
   "source": []
  },
  {
   "cell_type": "markdown",
   "metadata": {},
   "source": [
    "Write a Python class named Rectangle constructed by a length and width and a method print_area which will print the area of a rectangle, formatted with no more than two decimal places."
   ]
  },
  {
   "cell_type": "code",
   "execution_count": null,
   "metadata": {},
   "outputs": [],
   "source": []
  },
  {
   "cell_type": "markdown",
   "metadata": {},
   "source": [
    "## Exercise 2: Numpy\n",
    "This part uses common ML libraries. They are pre-installed in Colab, but if you are working on your own machine you will need to install them. \n",
    "\n",
    "Use conda to install packages! Conda will automatically install dependencies and make sure your packages work well together. For example, activate your environment from a terminal `conda activate myenv`, then `conda install numpy matplotlib pandas`. If conda says there are package conflicts, try installing from the conda-forge repository `conda install -c conda-forge matplotlib`.\n",
    "\n",
    "You can also run terminal commands directly from Jupyter by starting a line with `!`. For example, `!conda install -y numpy pandas matplotlib`."
   ]
  },
  {
   "cell_type": "code",
   "execution_count": 83,
   "metadata": {},
   "outputs": [],
   "source": [
    "import numpy as np"
   ]
  },
  {
   "cell_type": "markdown",
   "metadata": {},
   "source": [
    "Write a Numpy function that takes int N and returns an NxN numpy array filled with a checkerboard pattern.\\\n",
    "For example, for N=8, the function should return: \\\n",
    "[[0 1 0 1 0 1 0 1] \\\n",
    ".......... \\\n",
    "[0 1 0 1 0 1 0 1] \\\n",
    "[1 0 1 0 1 0 1 0]]"
   ]
  },
  {
   "cell_type": "code",
   "execution_count": null,
   "metadata": {},
   "outputs": [],
   "source": []
  },
  {
   "cell_type": "markdown",
   "metadata": {},
   "source": [
    "Write a numpy function Selector that takes in 2-dimensional array X, removes any row for which the sum of the row is not zero, and returns the resulting 2-D array. Use the numpy function `np.isclose()` to test whether the sum is zero, since floating point arithmetic can be imprecise."
   ]
  },
  {
   "cell_type": "code",
   "execution_count": null,
   "metadata": {},
   "outputs": [],
   "source": []
  },
  {
   "cell_type": "markdown",
   "metadata": {},
   "source": [
    "In machine learning, a common way to describe the relationship between features is via a *covariance* matrix. Write a function that computes the sample covariance matrix of a dataset $X$, a 2-dimensional array of shape $N$-by-$D$. The sample covariance matrix $\\Sigma$ is a $D$-by-$D$ matrix where element $\\Sigma_{i,j}$ is the sample covariance of $X[:,i]$ and $X[:,j]$.\n",
    "\n",
    "Use the following definition of sample covariance between features $$cov_{x,y}=\\frac{\\sum_{i=1}^{N}(x_{i}-\\bar{x})(y_{i}-\\bar{y})}{N-1}$$ where $N$ is the length of the vectors, and $\\bar{x}$ is the mean of vector $x$. **Warning:** The sample covariance is an *estimate* of the *true* covariance of the random variables. There are other ways to estimate the variance from a finite dataset. Use this definition.\n",
    "\n",
    "Verify your function works by computing the covariance on random data and making sure it matches `numpy.cov()`. In your function, you can use `np.mean()` and `np.dot()`, but don't use `np.cov()`.\n"
   ]
  },
  {
   "cell_type": "code",
   "execution_count": null,
   "metadata": {},
   "outputs": [],
   "source": []
  },
  {
   "cell_type": "markdown",
   "metadata": {},
   "source": [
    "## Exercise 3: Working with Data"
   ]
  },
  {
   "cell_type": "markdown",
   "metadata": {},
   "source": [
    "In this exercise you will examine how Covid-19 outbreaks are corelated between states. The following code demonstrates how to download covid data for Hawaii.\n",
    "\n",
    "Jupyter also includes a number 'magic' commands that do special tricks in notebooks. For example, `%matplotlib inline` makes plots appear in the notebook. These do not work yet in the xeus-python kernel, so if you are using JupyterLab3 you may have to switch kernels (top right in JupyterLab)."
   ]
  },
  {
   "cell_type": "code",
   "execution_count": 6,
   "metadata": {},
   "outputs": [],
   "source": [
    "import numpy as np\n",
    "import urllib.request\n",
    "import pandas as pd\n",
    "import matplotlib.pyplot as plt\n",
    "%matplotlib inline"
   ]
  },
  {
   "cell_type": "code",
   "execution_count": 61,
   "metadata": {},
   "outputs": [
    {
     "data": {
      "text/html": [
       "<div>\n",
       "<style scoped>\n",
       "    .dataframe tbody tr th:only-of-type {\n",
       "        vertical-align: middle;\n",
       "    }\n",
       "\n",
       "    .dataframe tbody tr th {\n",
       "        vertical-align: top;\n",
       "    }\n",
       "\n",
       "    .dataframe thead th {\n",
       "        text-align: right;\n",
       "    }\n",
       "</style>\n",
       "<table border=\"1\" class=\"dataframe\">\n",
       "  <thead>\n",
       "    <tr style=\"text-align: right;\">\n",
       "      <th></th>\n",
       "      <th>date</th>\n",
       "      <th>positiveIncrease</th>\n",
       "      <th>hospitalizedCurrently</th>\n",
       "      <th>onVentilatorCurrently</th>\n",
       "      <th>deathIncrease</th>\n",
       "    </tr>\n",
       "  </thead>\n",
       "  <tbody>\n",
       "    <tr>\n",
       "      <th>316</th>\n",
       "      <td>2020-03-04</td>\n",
       "      <td>0</td>\n",
       "      <td>0.0</td>\n",
       "      <td>0.0</td>\n",
       "      <td>0</td>\n",
       "    </tr>\n",
       "    <tr>\n",
       "      <th>315</th>\n",
       "      <td>2020-03-05</td>\n",
       "      <td>0</td>\n",
       "      <td>0.0</td>\n",
       "      <td>0.0</td>\n",
       "      <td>0</td>\n",
       "    </tr>\n",
       "    <tr>\n",
       "      <th>314</th>\n",
       "      <td>2020-03-06</td>\n",
       "      <td>0</td>\n",
       "      <td>0.0</td>\n",
       "      <td>0.0</td>\n",
       "      <td>0</td>\n",
       "    </tr>\n",
       "    <tr>\n",
       "      <th>313</th>\n",
       "      <td>2020-03-07</td>\n",
       "      <td>1</td>\n",
       "      <td>0.0</td>\n",
       "      <td>0.0</td>\n",
       "      <td>0</td>\n",
       "    </tr>\n",
       "    <tr>\n",
       "      <th>312</th>\n",
       "      <td>2020-03-08</td>\n",
       "      <td>0</td>\n",
       "      <td>0.0</td>\n",
       "      <td>0.0</td>\n",
       "      <td>0</td>\n",
       "    </tr>\n",
       "  </tbody>\n",
       "</table>\n",
       "</div>"
      ],
      "text/plain": [
       "           date  positiveIncrease  hospitalizedCurrently  \\\n",
       "316  2020-03-04                 0                    0.0   \n",
       "315  2020-03-05                 0                    0.0   \n",
       "314  2020-03-06                 0                    0.0   \n",
       "313  2020-03-07                 1                    0.0   \n",
       "312  2020-03-08                 0                    0.0   \n",
       "\n",
       "     onVentilatorCurrently  deathIncrease  \n",
       "316                    0.0              0  \n",
       "315                    0.0              0  \n",
       "314                    0.0              0  \n",
       "313                    0.0              0  \n",
       "312                    0.0              0  "
      ]
     },
     "execution_count": 61,
     "metadata": {},
     "output_type": "execute_result"
    },
    {
     "data": {
      "image/png": "[encoded data removed]",
      "text/plain": [
       "<Figure size 432x288 with 1 Axes>"
      ]
     },
     "metadata": {
      "needs_background": "light"
     },
     "output_type": "display_data"
    }
   ],
   "source": [
    "# Download covid data for Hawaii (updated daily).\n",
    "url = 'https://covidtracking.com/data/download/hawaii-history.csv'\n",
    "response = urllib.request.urlopen(url) # Download file.\n",
    "df = pd.read_csv(response)  # Load data into Pandas data frame.\n",
    "df = df[['date',\n",
    "         'positiveIncrease',\n",
    "         'hospitalizedCurrently',\n",
    "         'onVentilatorCurrently',\n",
    "         'deathIncrease']] # Extract columns of interest.\n",
    "df = df.sort_values('date')\n",
    "df = df.replace(np.nan, 0) # Fill in missing data.\n",
    "# Plot data.\n",
    "plt.plot(df['date'], df['hospitalizedCurrently'], label='Hawaii')\n",
    "plt.xticks(df['date'][::30], rotation=45)\n",
    "plt.ylabel('Patients')\n",
    "plt.legend()\n",
    "df.head() # Prints first 5 lines of file."
   ]
  },
  {
   "cell_type": "markdown",
   "metadata": {},
   "source": [
    "Download data for other states and compare the number of infections. Plot the number of daily infections (positiveIncrease) for at least five states on the same plot."
   ]
  },
  {
   "cell_type": "code",
   "execution_count": null,
   "metadata": {},
   "outputs": [],
   "source": []
  },
  {
   "cell_type": "markdown",
   "metadata": {},
   "source": [
    "Visualize the correlations between state daily infections using a heatmap.\n",
    "\n",
    "1. Compute the correlation matrix of the 'positiveIncrease' variable using `np.corrcoef()`. This is similar to the covariance matrix from the previous exercise, but is normalized. \n",
    "1. Using the `plt.imshow()` command. \n",
    "1. Label the rows and columns of your plot, e.g. with `plt.xticks(range(len(states)), states, rotation=45)`."
   ]
  },
  {
   "cell_type": "code",
   "execution_count": null,
   "metadata": {},
   "outputs": [],
   "source": []
  }
 ],
 "metadata": {
  "kernelspec": {
   "display_name": "Python 3",
   "language": "python",
   "name": "python3"
  },
  "language_info": {
   "codemirror_mode": {
    "name": "ipython",
    "version": 3
   },
   "file_extension": ".py",
   "mimetype": "text/x-python",
   "name": "python",
   "nbconvert_exporter": "python",
   "pygments_lexer": "ipython3",
   "version": "3.9.1"
  }
 },
 "nbformat": 4,
 "nbformat_minor": 4
}
